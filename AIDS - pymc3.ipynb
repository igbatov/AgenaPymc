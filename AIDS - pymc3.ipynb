{
 "cells": [
  {
   "cell_type": "code",
   "execution_count": 1,
   "metadata": {},
   "outputs": [],
   "source": [
    "# TODO: доделать как в https://stackoverflow.com/questions/43325273/sampling-from-posterior-using-custom-likelihood-in-pymc3\n",
    "%matplotlib inline\n",
    "from IPython.core.pylabtools import figsize\n",
    "import matplotlib.pyplot as plt\n",
    "import scipy.stats as stats"
   ]
  },
  {
   "cell_type": "code",
   "execution_count": null,
   "metadata": {},
   "outputs": [],
   "source": [
    "Soft evidence имитируем монеткой (Bernoulli)."
   ]
  },
  {
   "cell_type": "code",
   "execution_count": 13,
   "metadata": {},
   "outputs": [
    {
     "name": "stdout",
     "output_type": "stream",
     "text": [
      "1\n"
     ]
    },
    {
     "ename": "AttributeError",
     "evalue": "module 'pymc3' has no attribute 'ab'",
     "output_type": "error",
     "traceback": [
      "\u001b[0;31m---------------------------------------------------------------------------\u001b[0m",
      "\u001b[0;31mAttributeError\u001b[0m                            Traceback (most recent call last)",
      "\u001b[0;32m<ipython-input-13-063be968b45f>\u001b[0m in \u001b[0;36m<module>\u001b[0;34m()\u001b[0m\n\u001b[1;32m     15\u001b[0m \u001b[0;34m\u001b[0m\u001b[0m\n\u001b[1;32m     16\u001b[0m     \u001b[0mab\u001b[0m \u001b[0;34m=\u001b[0m \u001b[0mpm\u001b[0m\u001b[0;34m.\u001b[0m\u001b[0mDensityDist\u001b[0m\u001b[0;34m(\u001b[0m\u001b[0;34m'ab'\u001b[0m\u001b[0;34m,\u001b[0m \u001b[0mlogp\u001b[0m\u001b[0;34m)\u001b[0m\u001b[0;34m\u001b[0m\u001b[0m\n\u001b[0;32m---> 17\u001b[0;31m     \u001b[0mmodelo\u001b[0m\u001b[0;34m=\u001b[0m\u001b[0mpm\u001b[0m\u001b[0;34m.\u001b[0m\u001b[0mab\u001b[0m\u001b[0;34m(\u001b[0m\u001b[0mvalue\u001b[0m\u001b[0;34m=\u001b[0m\u001b[0;36m0\u001b[0m\u001b[0;34m)\u001b[0m\u001b[0;34m\u001b[0m\u001b[0m\n\u001b[0m\u001b[1;32m     18\u001b[0m     \u001b[0mprint\u001b[0m\u001b[0;34m(\u001b[0m\u001b[0mmodelo\u001b[0m\u001b[0;34m.\u001b[0m\u001b[0mrandom\u001b[0m\u001b[0;34m(\u001b[0m\u001b[0;34m)\u001b[0m\u001b[0;34m)\u001b[0m\u001b[0;34m\u001b[0m\u001b[0m\n\u001b[1;32m     19\u001b[0m \u001b[0;31m#     samples = [t.random()[0] for i in range(20000)]\u001b[0m\u001b[0;34m\u001b[0m\u001b[0;34m\u001b[0m\u001b[0m\n",
      "\u001b[0;31mAttributeError\u001b[0m: module 'pymc3' has no attribute 'ab'"
     ]
    }
   ],
   "source": [
    "import pymc3 as pm\n",
    "import numpy as np\n",
    "import theano.tensor as tt\n",
    "\n",
    "with pm.Model() as model:\n",
    "    f_1_of_10000 = pm.Categorical(\"f_1_of_10000\", [1, 2])\n",
    "    def p_I_am_HIV_positive_logp(f_1_of_10000, value):\n",
    "       if (tt.eq(f_1_of_10000, 1) and tt.eq(value, 1)):\n",
    "           p = 0.0001\n",
    "       elif (tt.eq(f_1_of_10000, 1) and tt.eq(value, 0)):\n",
    "           p = 0.9999\n",
    "       elif (tt.eq(f_1_of_10000, 0) and tt.eq(value, 1)):\n",
    "           p = 0.5\n",
    "       elif (tt.eq(f_1_of_10000, 0) and tt.eq(value, 0)):\n",
    "            p = 0.5\n",
    "       else:\n",
    "         return -np.inf\n",
    "       return np.log(p)\n",
    "    p_I_am_HIV_positive = pm.DensityDist('p_I_am_HIV_positive', p_I_am_HIV_positive_logp)\n",
    "    test_show_positive = pm.Categorical("soft_evidence", [0.1, 0.9])\n",
    "    def HIV_test_false_positive_logp(soft_evidence, value):\n",
    "        if(tt.eq(test_show_positive, 1)):\n",
    "            if(tt.eq(p_I_am_HIV_positive,1) and tt.eq(value, 1)):\n",
    "                p = 0.999\n",
    "            elif(tt.eq(p_I_am_HIV_positive,1) tt.eq(value, 0)):\n",
    "                p = 0.001\n",
    "            elif(tt.eq(p_I_am_HIV_positive,0) and tt.eq(value, 1)):\n",
    "                p = 0.001\n",
    "            elif(tt.eq(p_I_am_HIV_positive,0) tt.eq(value, 0)):\n",
    "                p = 0.999\n",
    "        elif(tt.eq(test_show_positive, 0)):\n",
    "            p = 0.5\n",
    "        else:\n"
    "            return -np.inf\n",
    "       return np.log(p)\n",
    "    HIV_test_false_positive = pm.DensityDist('HIV_test_false_positive', HIV_test_false_positive_logp)\n",
    "    step = pm.Metropolis()\n",
    "    trace = pm.sample(10000, tune=5000,step=step)\n",
    "    samples = trace['p_I_am_HIV_positive']\n",
   ]
  },
  {
   "cell_type": "code",
   "execution_count": null,
   "metadata": {},
   "outputs": [],
   "source": []
  }
 ],
 "metadata": {
  "kernelspec": {
   "display_name": "Python 2",
   "language": "python",
   "name": "python2"
  },
  "language_info": {
   "codemirror_mode": {
    "name": "ipython",
    "version": 2
   },
   "file_extension": ".py",
   "mimetype": "text/x-python",
   "name": "python",
   "nbconvert_exporter": "python",
   "pygments_lexer": "ipython2",
   "version": "2.7.14"
  }
 },
 "nbformat": 4,
 "nbformat_minor": 2
}
