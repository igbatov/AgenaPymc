{
 "cells": [
  {
   "cell_type": "code",
   "execution_count": 1,
   "metadata": {},
   "outputs": [],
   "source": [
    "%matplotlib inline\n",
    "from IPython.core.pylabtools import figsize\n",
    "import matplotlib.pyplot as plt\n",
    "import scipy.stats as stats"
   ]
  },
  {
   "cell_type": "code",
   "execution_count": null,
   "metadata": {},
   "outputs": [],
   "source": [
    "Soft evidence имитируем монеткой (Bernoulli)."
   ]
  },
  {
   "cell_type": "code",
   "execution_count": 23,
   "metadata": {},
   "outputs": [
    {
     "name": "stdout",
     "output_type": "stream",
     "text": [
      "{'logp_sum_unscaledt': Sum{acc_dtype=float64}.0, 'type': TensorType(float64, scalar), 'index': None, 'model': <pymc3.model.Model object at 0x00000292D24BD0B8>, 'random': None, 'distribution': <pymc3.distributions.distribution.DensityDist object at 0x00000292D244B390>, 'dsize': 1, 'logp_elemwiset': Elemwise{mul,no_inplace}.0, 'name': 'beta', 'owner': None, 'tag': scratchpad{'test_value': 0.0}, 'auto_name': 'auto_24864', 'dshape': (), 'scaling': TensorConstant{1.0}, 'logp_nojac_unscaledt': Elemwise{mul,no_inplace}.0, 'total_size': None}\n",
      "{'type': TensorType(float64, scalar), 'index': 0, 'distribution': <pymc3.distributions.continuous.Exponential object at 0x00000292D2491198>, 'transformation': <pymc3.distributions.transforms.Log object at 0x00000292CF8465C0>, 'random': <pymc3.model.InstanceMethod object at 0x00000292D22B9B38>, 'transformed': lam_log__, 'model': <pymc3.model.Model object at 0x00000292D24BD0B8>, 'auto_name': 'auto_25233', 'owner': ViewOp(Elemwise{exp,no_inplace}.0), 'tag': scratchpad{'test_value': array(0.69314718)}, 'name': 'lam', 'scaling': TensorConstant{1.0}}\n"
     ]
    }
   ],
   "source": [
    "import pymc3 as pm\n",
    "import numpy as np\n",
    "import theano.tensor as tt\n",
    "with pm.Model() as model:\n",
    "    alpha = pm.Uniform('intercept', -100, 100)\n",
    "\n",
    "    # Create custom densities\n",
    "    beta = pm.DensityDist('beta', lambda value: -1.5 * tt.log(1 + value**2), testval=0)\n",
    "    eps = pm.DensityDist('eps', lambda value: -tt.log(tt.abs_(value)), testval=1)\n",
    "    print(beta.__dict__)\n",
    "    lam = pm.Exponential('lam', 1)\n",
    "    print(lam.__dict__)\n",
    "    "
   ]
  },
  {
   "cell_type": "code",
   "execution_count": 24,
   "metadata": {},
   "outputs": [],
   "source": [
    "import pymc3 as pm\n",
    "import numpy as np\n",
    "import theano.tensor as tt\n",
    "with pm.Model() as model:\n",
    "    lam = pm.Exponential('lam', 1)\n",
    "\n",
    "    failure = np.array([0, 1])\n",
    "    value = np.array([1, 0])\n",
    "\n",
    "    def logp(value):\n",
    "        return lam * value\n",
    "\n",
    "    x = pm.DensityDist('x', logp)"
   ]
  },
  {
   "cell_type": "code",
   "execution_count": 13,
   "metadata": {},
   "outputs": [
    {
     "name": "stdout",
     "output_type": "stream",
     "text": [
      "1\n"
     ]
    },
    {
     "ename": "AttributeError",
     "evalue": "module 'pymc3' has no attribute 'ab'",
     "output_type": "error",
     "traceback": [
      "\u001b[0;31m---------------------------------------------------------------------------\u001b[0m",
      "\u001b[0;31mAttributeError\u001b[0m                            Traceback (most recent call last)",
      "\u001b[0;32m<ipython-input-13-063be968b45f>\u001b[0m in \u001b[0;36m<module>\u001b[0;34m()\u001b[0m\n\u001b[1;32m     15\u001b[0m \u001b[0;34m\u001b[0m\u001b[0m\n\u001b[1;32m     16\u001b[0m     \u001b[0mab\u001b[0m \u001b[0;34m=\u001b[0m \u001b[0mpm\u001b[0m\u001b[0;34m.\u001b[0m\u001b[0mDensityDist\u001b[0m\u001b[0;34m(\u001b[0m\u001b[0;34m'ab'\u001b[0m\u001b[0;34m,\u001b[0m \u001b[0mlogp\u001b[0m\u001b[0;34m)\u001b[0m\u001b[0;34m\u001b[0m\u001b[0m\n\u001b[0;32m---> 17\u001b[0;31m     \u001b[0mmodelo\u001b[0m\u001b[0;34m=\u001b[0m\u001b[0mpm\u001b[0m\u001b[0;34m.\u001b[0m\u001b[0mab\u001b[0m\u001b[0;34m(\u001b[0m\u001b[0mvalue\u001b[0m\u001b[0;34m=\u001b[0m\u001b[0;36m0\u001b[0m\u001b[0;34m)\u001b[0m\u001b[0;34m\u001b[0m\u001b[0m\n\u001b[0m\u001b[1;32m     18\u001b[0m     \u001b[0mprint\u001b[0m\u001b[0;34m(\u001b[0m\u001b[0mmodelo\u001b[0m\u001b[0;34m.\u001b[0m\u001b[0mrandom\u001b[0m\u001b[0;34m(\u001b[0m\u001b[0;34m)\u001b[0m\u001b[0;34m)\u001b[0m\u001b[0;34m\u001b[0m\u001b[0m\n\u001b[1;32m     19\u001b[0m \u001b[0;31m#     samples = [t.random()[0] for i in range(20000)]\u001b[0m\u001b[0;34m\u001b[0m\u001b[0;34m\u001b[0m\u001b[0m\n",
      "\u001b[0;31mAttributeError\u001b[0m: module 'pymc3' has no attribute 'ab'"
     ]
    }
   ],
   "source": [
    "import pymc3 as pm\n",
    "import numpy as np\n",
    "import theano.tensor as tt\n",
    "\n",
    "with pm.Model() as model:\n",
    "    f_1_of_10000 = pm.Categorical(\"f_1_of_10000\", [1, 2])\n",
    "    print(f_1_of_10000.random())\n",
    "    def logp(value):\n",
    "        if (value == 0):\n",
    "            return 0.33\n",
    "        elif (value == 1):\n",
    "            return 0.67\n",
    "        else:\n",
    "            return 0\n",
    "    \n",
    "    ab = pm.DensityDist('ab', logp)\n",
    "    modelo=pm.ab(value=0)\n",
    "    print(modelo.random())\n",
    "#     samples = [t.random()[0] for i in range(20000)]\n",
    "#     plt.hist(samples, bins=70, normed=True, histtype=\"stepfilled\")\n",
    "    \n",
    "#     # the same as soft evidence fact\n",
    "#     f_1_of_10000 = pm.Categorical(\"f_1_of_10000\", [0, 1])\n",
    "#     print(f_1_of_10000.random())\n",
    "#     I_am_HIV_positive = pm.Categorical(\"I_am_HIV_positive\", [0.0001, 0.9999])\n",
    "#     I_dont_know = pm.Categorical(\"I_dont_know\", [0.5, 0.5])\n",
    "#     p_I_am_HIV_positive_soft = pm.math.switch(tt.eq(f_1_of_10000, 1), I_am_HIV_positive, I_dont_know)\n",
    "    \n",
    "#     f_HIV_test_false_positive = pm.math.switch(\n",
    "#         p_I_am_HIV_positive_soft == 0,\n",
    "#         pm.Categorical(\"test_if_I_am_not_HIV\", [0.999, 0.001]),\n",
    "#         pm.Categorical(\"test_if_I_am_HIV\", [0.001, 0.999]),\n",
    "#         observed=1\n",
    "#     )"
   ]
  },
  {
   "cell_type": "code",
   "execution_count": null,
   "metadata": {},
   "outputs": [],
   "source": []
  }
 ],
 "metadata": {
  "kernelspec": {
   "display_name": "Python 3",
   "language": "python",
   "name": "python3"
  },
  "language_info": {
   "codemirror_mode": {
    "name": "ipython",
    "version": 3
   },
   "file_extension": ".py",
   "mimetype": "text/x-python",
   "name": "python",
   "nbconvert_exporter": "python",
   "pygments_lexer": "ipython3",
   "version": "3.5.4"
  }
 },
 "nbformat": 4,
 "nbformat_minor": 2
}
