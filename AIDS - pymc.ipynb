{
 "cells": [
  {
   "cell_type": "code",
   "execution_count": 22,
   "metadata": {},
   "outputs": [
    {
     "name": "stdout",
     "output_type": "stream",
     "text": [
      " [-----------------100%-----------------] 20000 of 20000 complete in 27.6 sec0.450050\n"
     ]
    }
   ],
   "source": [
    "# adapted from http://www.awebb.info/blog/observing_functions\n",
    "import pymc as pm\n",
    "import numpy as np\n",
    "import matplotlib.pyplot as plt\n",
    "from IPython.display import Image\n",
    "#import utils\n",
    "%matplotlib inline\n",
    "\n",
    "# soft evidence for fact\n",
    "f_1_of_10000 = pm.Categorical(\"f_1_of_10000\", [0.1, 0.9])\n",
    "\n",
    "# conditional probability for child\n",
    "I_am_HIV_positive = pm.Categorical(\"I_am_HIV_positive\", [0.9999, 0.0001])\n",
    "I_dont_know = pm.Categorical(\"I_dont_know\", [0.5, 0.5])\n",
    "@pm.deterministic\n",
    "#args == parents and output probabilities\n",
    "def p_I_am_HIV_positive(f_1_of_10000=f_1_of_10000, I_am_HIV_positive=I_am_HIV_positive, I_dont_know=I_dont_know):\n",
    "    # this is formed automatically from table or entered by user manually\n",
    "    if (f_1_of_10000 == 1):\n",
    "        return I_am_HIV_positive\n",
    "    elif (f_1_of_10000 == 0):\n",
    "        return I_dont_know\n",
    "\n",
    "# args = observed value and parents\n",
    "# if observed value must be soft, then we add one more categerical parent - soft_evidence\n",
    "soft_evidence = pm.Categorical(\"soft_evidence\", [0.1, 0.9])\n",
    "@pm.stochastic(observed=True)\n",
    "def HIV_test_false_positive(value=1, soft_evidence=soft_evidence, p_I_am_HIV_positive=p_I_am_HIV_positive):\n",
    "    if ( p_I_am_HIV_positive != 0 and p_I_am_HIV_positive != 1 ):\n",
    "        return -np.inf\n",
    "    if ( value != 0 and value != 1 ):\n",
    "        return -np.inf\n",
    "    \n",
    "    if ( p_I_am_HIV_positive == 0 and soft_evidence == 1):\n",
    "        prob = 0.001 if value == 1 else 0.999 # 0.001 - prob that test is true if a am not really HIV\n",
    "    elif ( p_I_am_HIV_positive == 1  and soft_evidence == 1):\n",
    "        prob = 0.999 if value == 1 else 0.001 # 0.999 - prob that test is true if a am really HIV\n",
    "    elif ( p_I_am_HIV_positive == 0  and soft_evidence == 0):\n",
    "        prob = 0.5 # prob that test is true if a am not really HIV and my knowledge about test results is wrong\n",
    "    elif ( p_I_am_HIV_positive == 1  and soft_evidence == 0):\n",
    "        prob = 0.5 # prob that test is true if a am really HIV and my knowledge about test results is wrong\n",
    "    return np.log(prob)\n",
    "     \n",
    "model = pm.Model([\n",
    "    f_1_of_10000,\n",
    "    soft_evidence,\n",
    "    I_am_HIV_positive,\n",
    "    p_I_am_HIV_positive,\n",
    "    I_dont_know,\n",
    "    HIV_test_false_positive\n",
    "])\n",
    "#graph = pm.graph.graph(model)\n",
    "#Image(graph.create_png())\n",
    "mcmc = pm.MCMC(model)\n",
    "SAMPLE_NUM = 20000\n",
    "mcmc.sample(SAMPLE_NUM, 2000)\n",
    "\n",
    "alpha_samples = mcmc.trace(\"p_I_am_HIV_positive\")[:]\n",
    "\n",
    "print \"%f\" % (sum(alpha_samples)/float(SAMPLE_NUM))"
   ]
  },
  {
   "cell_type": "code",
   "execution_count": null,
   "metadata": {},
   "outputs": [],
   "source": []
  }
 ],
 "metadata": {
  "kernelspec": {
   "display_name": "Python 2",
   "language": "python",
   "name": "python2"
  },
  "language_info": {
   "codemirror_mode": {
    "name": "ipython",
    "version": 2
   },
   "file_extension": ".py",
   "mimetype": "text/x-python",
   "name": "python",
   "nbconvert_exporter": "python",
   "pygments_lexer": "ipython2",
   "version": "2.7.14"
  }
 },
 "nbformat": 4,
 "nbformat_minor": 2
}
