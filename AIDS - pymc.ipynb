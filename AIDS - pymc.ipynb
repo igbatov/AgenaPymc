{
 "cells": [
  {
   "cell_type": "code",
   "execution_count": 7,
   "metadata": {},
   "outputs": [
    {
     "name": "stdout",
     "output_type": "stream",
     "text": [
      "1\n",
      "0\n",
      " [-----------------100%-----------------] 20000 of 20000 complete in 32.5 sec17711\n"
     ]
    }
   ],
   "source": [
    "import pymc as pm\n",
    "import numpy as np\n",
    "import matplotlib.pyplot as plt\n",
    "from IPython.display import Image\n",
    "#import utils\n",
    "%matplotlib inline\n",
    "\n",
    "# the same as soft evidence fact\n",
    "f_1_of_10000 = pm.Categorical(\"f_1_of_10000\", [0.1, 0.9])\n",
    "print(f_1_of_10000.value)\n",
    "prior_HIV_positive = pm.Categorical(\"I_am_HIV_positive\", [0.9999, 0.0001])\n",
    "I_dont_know = pm.Categorical(\"I_dont_know\", [0.5, 0.5])\n",
    "\n",
    "@pm.deterministic\n",
    "def p_I_am_HIV_positive_soft(f_1_of_10000=f_1_of_10000, prior_HIV_positive=prior_HIV_positive, I_dont_know=I_dont_know):\n",
    "    if (f_1_of_10000 == 1):\n",
    "        return prior_HIV_positive\n",
    "    else:\n",
    "        return I_dont_know\n",
    "\n",
    "print(p_I_am_HIV_positive_soft.value)\n",
    "\n",
    "@pm.stochastic(observed=True)\n",
    "def HIV_test_false_positive(value=1, p_I_am_HIV_positive_soft=p_I_am_HIV_positive_soft):\n",
    "    if ( p_I_am_HIV_positive_soft != 0 and p_I_am_HIV_positive_soft != 1 ):\n",
    "        return -np.inf\n",
    "    if ( value != 0 and value != 1 ):\n",
    "        return -np.inf\n",
    "    \n",
    "    if ( p_I_am_HIV_positive_soft == 0 ):\n",
    "        prob = 0.001 if value == 1 else 0.999 # 0.001 - prob that test is true if a am not really HIV\n",
    "    else:\n",
    "        prob = 0.999 if value == 1 else 0.001 # 0.999 - prob that test is true if a am really HIV\n",
    "    return np.log(prob)\n",
    "     \n",
    "model = pm.Model([f_1_of_10000, prior_HIV_positive, I_dont_know, p_I_am_HIV_positive_soft, HIV_test_false_positive])\n",
    "#graph = pm.graph.graph(model)\n",
    "#Image(graph.create_png())\n",
    "mcmc = pm.MCMC(model)\n",
    "mcmc.sample(20000, 2000)\n",
    "\n",
    "alpha_samples = mcmc.trace(\"p_I_am_HIV_positive_soft\")[:]\n",
    "\n",
    "print(sum(alpha_samples))\n",
    "# f_HIV_test_false_positive = pm.math.switch(\n",
    "#     p_I_am_HIV_positive_soft == 0,\n",
    "#     pm.Categorical(\"test_if_I_am_not_HIV\", [0.999, 0.001]),\n",
    "#     pm.Categorical(\"test_if_I_am_HIV\", [0.001, 0.999]),\n",
    "#     observed=1\n",
    "# )"
   ]
  },
  {
   "cell_type": "code",
   "execution_count": 6,
   "metadata": {},
   "outputs": [
    {
     "name": "stdout",
     "output_type": "stream",
     "text": [
      "[  34.48812604   60.70183575 -395.06191324  -13.26777975   87.06211973\n",
      "  238.51682684 -769.73061982    5.27941371   -1.48011857  -50.17412454\n",
      "    0.97595069   26.42491173  -84.3494807    11.11215006   63.81445975\n",
      "   30.11792832   -9.94067439   61.54219083 -153.43098829  -17.11648649\n",
      "   37.1276701    26.63062263 -119.26462687  -45.40224821   -1.08828223\n",
      "   18.05540347  117.50872415   45.1306907   -12.60321802   35.86636911\n",
      "   13.03566077  104.7065462  -572.25351675   29.95359632  -11.88847627\n",
      "    7.31837546  139.43694805   13.57138393  531.77325519   55.58575935\n",
      "   -7.47213901   75.42960648  -26.83676874   56.68983289   26.94977381\n",
      "   12.53647425 -176.29622473  103.71966544 -222.9610755    65.73200885]\n"
     ]
    }
   ],
   "source": [
    "# The parameters to be inferred. We only know them here because we are synthesising the data.\n",
    "true_alpha = 10\n",
    "true_beta = 50\n",
    "\n",
    "num_flashes = 50\n",
    "\n",
    "# Generate the angles\n",
    "true_thetas = np.random.uniform(low=-0.5*np.pi, high=0.5*np.pi, size=num_flashes)\n",
    "\n",
    "# Generate the x coordinates of the flashes along the coastline\n",
    "data = true_alpha + true_beta * np.tan(true_thetas)\n",
    "print(data)"
   ]
  },
  {
   "cell_type": "code",
   "execution_count": null,
   "metadata": {},
   "outputs": [],
   "source": [
    "def age_logp(age):\n",
    "    if age < 0 or age > 110:\n",
    "        return -np.inf\n",
    "    elif 0 <= age < 20:\n",
    "        prob = age_dist['0-20']\n",
    "    elif 20 <= age < 40:\n",
    "        prob = age_dist['20-40']\n",
    "    elif 40 <= age < 60:\n",
    "        prob = age_dist['40-60']\n",
    "    elif 60 <= age < 80:\n",
    "        prob = age_dist['60-80']\n",
    "    elif age >= 80:\n",
    "        prob = age_dist['80-inf']\n",
    "    return np.log(prob)\n",
    "\n",
    "\n",
    "@pymc.stochastic\n",
    "def age(value=0):\n",
    "    def logp(value):\n",
    "        return age_logp(value)"
   ]
  }
 ],
 "metadata": {
  "kernelspec": {
   "display_name": "Python 2",
   "language": "python",
   "name": "python2"
  },
  "language_info": {
   "codemirror_mode": {
    "name": "ipython",
    "version": 2
   },
   "file_extension": ".py",
   "mimetype": "text/x-python",
   "name": "python",
   "nbconvert_exporter": "python",
   "pygments_lexer": "ipython2",
   "version": "2.7.14"
  }
 },
 "nbformat": 4,
 "nbformat_minor": 2
}
