{
 "cells": [
  {
   "cell_type": "code",
   "execution_count": 33,
   "metadata": {},
   "outputs": [
    {
     "name": "stdout",
     "output_type": "stream",
     "text": [
      "0\n",
      "0\n",
      " [-----------------100%-----------------] 20000 of 20000 complete in 18.9 sec0.00145\n"
     ]
    }
   ],
   "source": [
    "import pymc as pm\n",
    "import numpy as np\n",
    "import matplotlib.pyplot as plt\n",
    "#import utils\n",
    "%matplotlib inline\n",
    "\n",
    "# the same as soft evidence fact\n",
    "f_1_of_10000 = pm.Categorical(\"f_1_of_10000\", [1, 0])\n",
    "print(f_1_of_10000.random())\n",
    "I_am_HIV_positive = pm.Categorical(\"I_am_HIV_positive\", [0.0001, 0.9999])\n",
    "I_dont_know = pm.Categorical(\"I_dont_know\", [0.5, 0.5])\n",
    "\n",
    "@pm.deterministic\n",
    "def p_I_am_HIV_positive_soft(f_1_of_10000=f_1_of_10000, I_am_HIV_positive=I_am_HIV_positive, I_dont_know=I_dont_know):\n",
    "    if (f_1_of_10000 == 1):\n",
    "        return I_am_HIV_positive\n",
    "    else:\n",
    "        return I_dont_know\n",
    "\n",
    "print(p_I_am_HIV_positive_soft.value)\n",
    "\n",
    "@pm.stochastic(observed=True)\n",
    "def HIV_test_false_positive(value=1, p_I_am_HIV_positive_soft=p_I_am_HIV_positive_soft):\n",
    "    if ( p_I_am_HIV_positive_soft != 0 and p_I_am_HIV_positive_soft != 1 ):\n",
    "        return -np.inf\n",
    "    elif ( p_I_am_HIV_positive_soft == 0 ):\n",
    "        prob = 0.999 if value == 1 else 0.001 # 0.999 - prob that test is true if a am really HIV\n",
    "    else:\n",
    "        prob = 0.001 if value == 1 else 0.999 # 0.001 - prob that test is true if a am not really HIV\n",
    "    return np.log(prob)\n",
    "     \n",
    "model = pm.Model([f_1_of_10000, I_am_HIV_positive, I_dont_know, p_I_am_HIV_positive_soft, HIV_test_false_positive])\n",
    "#utils.display_graph(model)\n",
    "mcmc = pm.MCMC(model)\n",
    "mcmc.sample(20000, 2000)\n",
    "\n",
    "alpha_samples = mcmc.trace(\"p_I_am_HIV_positive_soft\")[:]\n",
    "\n",
    "print(sum(alpha_samples)/20000)\n",
    "# f_HIV_test_false_positive = pm.math.switch(\n",
    "#     p_I_am_HIV_positive_soft == 0,\n",
    "#     pm.Categorical(\"test_if_I_am_not_HIV\", [0.999, 0.001]),\n",
    "#     pm.Categorical(\"test_if_I_am_HIV\", [0.001, 0.999]),\n",
    "#     observed=1\n",
    "# )"
   ]
  },
  {
   "cell_type": "code",
   "execution_count": null,
   "metadata": {},
   "outputs": [],
   "source": [
    "def age_logp(age):\n",
    "    if age < 0 or age > 110:\n",
    "        return -np.inf\n",
    "    elif 0 <= age < 20:\n",
    "        prob = age_dist['0-20']\n",
    "    elif 20 <= age < 40:\n",
    "        prob = age_dist['20-40']\n",
    "    elif 40 <= age < 60:\n",
    "        prob = age_dist['40-60']\n",
    "    elif 60 <= age < 80:\n",
    "        prob = age_dist['60-80']\n",
    "    elif age >= 80:\n",
    "        prob = age_dist['80-inf']\n",
    "    return np.log(prob)\n",
    "\n",
    "\n",
    "@pymc.stochastic\n",
    "def age(value=0):\n",
    "    def logp(value):\n",
    "        return age_logp(value)"
   ]
  }
 ],
 "metadata": {
  "kernelspec": {
   "display_name": "Python 3",
   "language": "python",
   "name": "python3"
  },
  "language_info": {
   "codemirror_mode": {
    "name": "ipython",
    "version": 3
   },
   "file_extension": ".py",
   "mimetype": "text/x-python",
   "name": "python",
   "nbconvert_exporter": "python",
   "pygments_lexer": "ipython3",
   "version": "3.5.4"
  }
 },
 "nbformat": 4,
 "nbformat_minor": 2
}
