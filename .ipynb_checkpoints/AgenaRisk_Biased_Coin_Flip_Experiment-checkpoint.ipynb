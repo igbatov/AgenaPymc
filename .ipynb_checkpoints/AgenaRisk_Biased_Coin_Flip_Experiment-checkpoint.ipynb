{
 "cells": [
  {
   "cell_type": "code",
   "execution_count": null,
   "metadata": {},
   "outputs": [],
   "source": [
    "%matplotlib inline\n",
    "from IPython.core.pylabtools import figsize\n",
    "import matplotlib.pyplot as plt\n",
    "import scipy.stats as stats"
   ]
  },
  {
   "cell_type": "code",
   "execution_count": 45,
   "metadata": {},
   "outputs": [],
   "source": [
    "import pymc3 as pm\n",
    "import numpy as np\n",
    "\n",
    "with pm.Model() as model:\n",
    "    p_head = pm.Beta(\"p_head\", 9, 1)\n",
    "    posterior = pm.Binomial('postrerior', n=10, p=p_head, observed=5)"
   ]
  },
  {
   "cell_type": "code",
   "execution_count": 46,
   "metadata": {},
   "outputs": [
    {
     "name": "stderr",
     "output_type": "stream",
     "text": [
      "C:\\ProgramData\\Anaconda3\\envs\\BayesianHackers\\lib\\site-packages\\pymc3\\model.py:384: FutureWarning: Conversion of the second argument of issubdtype from `float` to `np.floating` is deprecated. In future, it will be treated as `np.float64 == np.dtype(float).type`.\n",
      "  if not np.issubdtype(var.dtype, float):\n",
      "100%|████████████████████████████████████████████████████████████████████████████████████████████████████████████████████████████| 15000/15000 [00:25<00:00, 592.42it/s]\n"
     ]
    }
   ],
   "source": [
    "with model:\n",
    "    step = pm.NUTS()\n",
    "    trace = pm.sample(10000, tune=5000,step=step)\n",
    "    p_head_samples = trace['p_head']"
   ]
  },
  {
   "cell_type": "code",
   "execution_count": 47,
   "metadata": {},
   "outputs": [
    {
     "data": {
      "text/plain": [
       "(array([0.00863599, 0.        , 0.00863599, 0.02590798, 0.06045195,\n",
       "        0.06045195, 0.24612581, 0.27203379, 0.33680374, 0.55702157,\n",
       "        0.79882938, 1.00177523, 1.53288882, 1.83946658, 2.35762618,\n",
       "        3.13486558, 3.34644742, 3.71347714, 3.79551907, 4.0243729 ,\n",
       "        3.77392909, 3.46303333, 2.81533383, 2.38353416, 1.74447066,\n",
       "        1.01041122, 0.5224776 , 0.2547618 , 0.08204194, 0.00863599]),\n",
       " array([0.27519125, 0.29835014, 0.32150903, 0.34466792, 0.36782681,\n",
       "        0.39098569, 0.41414458, 0.43730347, 0.46046236, 0.48362124,\n",
       "        0.50678013, 0.52993902, 0.55309791, 0.57625679, 0.59941568,\n",
       "        0.62257457, 0.64573346, 0.66889235, 0.69205123, 0.71521012,\n",
       "        0.73836901, 0.7615279 , 0.78468678, 0.80784567, 0.83100456,\n",
       "        0.85416345, 0.87732233, 0.90048122, 0.92364011, 0.946799  ,\n",
       "        0.96995789]),\n",
       " <a list of 1 Patch objects>)"
      ]
     },
     "execution_count": 47,
     "metadata": {},
     "output_type": "execute_result"
    },
    {
     "data": {
      "image/png": "[encoded data removed]",
      "text/plain": [
       "<matplotlib.figure.Figure at 0x1f58da74160>"
      ]
     },
     "metadata": {},
     "output_type": "display_data"
    }
   ],
   "source": [
    "figsize(12.5, 4)\n",
    "plt.hist(p_head_samples, histtype='stepfilled', bins=30, alpha=0.85,\n",
    "         label=\"posterior of p_head\", color=\"#A60628\", normed=True)"
   ]
  },
  {
   "cell_type": "code",
   "execution_count": 25,
   "metadata": {},
   "outputs": [
    {
     "data": {
      "image/png": "[encoded data removed]",
      "text/plain": [
       "<matplotlib.figure.Figure at 0x1f58a96f940>"
      ]
     },
     "metadata": {},
     "output_type": "display_data"
    }
   ],
   "source": [
    "figsize(12.5, 4)\n",
    "\n",
    "samples = [p_head.random() for i in range(20000)]\n",
    "plt.hist(samples, bins=70, normed=True, histtype=\"stepfilled\")\n",
    "plt.title(\"Prior distribution for p_head\")\n",
    "plt.xlim(0, 1);"
   ]
  },
  {
   "cell_type": "code",
   "execution_count": null,
   "metadata": {},
   "outputs": [],
   "source": []
  }
 ],
 "metadata": {
  "kernelspec": {
   "display_name": "Python 3",
   "language": "python",
   "name": "python3"
  },
  "language_info": {
   "codemirror_mode": {
    "name": "ipython",
    "version": 3
   },
   "file_extension": ".py",
   "mimetype": "text/x-python",
   "name": "python",
   "nbconvert_exporter": "python",
   "pygments_lexer": "ipython3",
   "version": "3.5.4"
  }
 },
 "nbformat": 4,
 "nbformat_minor": 2
}
