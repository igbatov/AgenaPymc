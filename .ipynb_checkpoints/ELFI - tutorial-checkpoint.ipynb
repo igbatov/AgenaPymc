{
 "cells": [
  {
   "cell_type": "code",
   "execution_count": 2,
   "metadata": {},
   "outputs": [
    {
     "name": "stdout",
     "output_type": "stream",
     "text": [
      "Method: Rejection\n",
      "Number of samples: 1000\n",
      "Number of simulations: 100000\n",
      "Threshold: 0.117\n",
      "Sample means: _prior_01b8: 0.556, _prior_d089: 0.219, t1: 0.0253, t2: 0.346\n"
     ]
    },
    {
     "data": {
      "image/png": "[encoded data removed]",
      "text/plain": [
       "<Figure size 1152x288 with 4 Axes>"
      ]
     },
     "metadata": {},
     "output_type": "display_data"
    }
   ],
   "source": [
    "import time\n",
    "\n",
    "import numpy as np\n",
    "import scipy.stats\n",
    "import matplotlib.pyplot as plt\n",
    "import logging\n",
    "logging.basicConfig(level=logging.INFO)  # sometimes this is required to enable logging inside Jupyter\n",
    "import elfi\n",
    "import os\n",
    "os.environ[\"PATH\"] += os.pathsep + 'C:/Program Files (x86)/Graphviz2.38/bin/'\n",
    "\n",
    "%matplotlib inline\n",
    "%precision 2\n",
    "\n",
    "# Set an arbitrary seed and a global random state to keep the randomly generated quantities the same between runs\n",
    "seed = 20170530\n",
    "np.random.seed(seed)\n",
    "\n",
    "def MA2(t1, t2, n_obs=100, batch_size=1, random_state=None):\n",
    "    # Make inputs 2d arrays for numpy broadcasting with w\n",
    "    t1 = np.asanyarray(t1).reshape((-1, 1))\n",
    "    t2 = np.asanyarray(t2).reshape((-1, 1))\n",
    "    random_state = random_state or np.random\n",
    "\n",
    "    w = random_state.randn(batch_size, n_obs+2)  # i.i.d. sequence ~ N(0,1)\n",
    "    x = w[:, 2:] + t1*w[:, 1:-1] + t2*w[:, :-2]\n",
    "    return x\n",
    "\n",
    "# true parameters\n",
    "t1_true = 0.6\n",
    "t2_true = 0.2\n",
    "\n",
    "y_obs = MA2(t1_true, t2_true)\n",
    "\n",
    "# a node is defined by giving a distribution from scipy.stats together with any arguments (here 0 and 2)\n",
    "t1 = elfi.Prior(scipy.stats.uniform, 0, 2)\n",
    "\n",
    "# ELFI also supports giving the scipy.stats distributions as strings\n",
    "t2 = elfi.Prior('uniform', 0, 2)\n",
    "\n",
    "Y = elfi.Simulator(MA2, t1, t2, observed=y_obs)\n",
    "\n",
    "def autocov(x, lag=1):\n",
    "    C = np.mean(x[:,lag:] * x[:,:-lag], axis=1)\n",
    "    return C\n",
    "\n",
    "S1 = elfi.Summary(autocov, Y)\n",
    "S2 = elfi.Summary(autocov, Y, 2)  # the optional keyword lag is given the value 2\n",
    "\n",
    "# Finish the model with the final node that calculates the squared distance (S1_sim-S1_obs)**2 + (S2_sim-S2_obs)**2\n",
    "d = elfi.Distance('euclidean', S1, S2)\n",
    "\n",
    "# define prior for t1 as in Marin et al., 2012 with t1 in range [-b, b]\n",
    "class CustomPrior_t1(elfi.Distribution):\n",
    "    def rvs(b, size=1, random_state=None):\n",
    "        u = scipy.stats.uniform.rvs(loc=0, scale=1, size=size, random_state=random_state)\n",
    "        t1 = np.where(u<0.5, np.sqrt(2.*u)*b-b, -np.sqrt(2.*(1.-u))*b+b)\n",
    "        return t1\n",
    "\n",
    "# define prior for t2 conditionally on t1 as in Marin et al., 2012, in range [-a, a]\n",
    "class CustomPrior_t2(elfi.Distribution):\n",
    "    def rvs(t1, a, size=1, random_state=None):\n",
    "        locs = np.maximum(-a-t1, t1-a)\n",
    "        scales = a - locs\n",
    "        t2 = scipy.stats.uniform.rvs(loc=locs, scale=scales, size=size, random_state=random_state)\n",
    "        return t2\n",
    "    \n",
    "t1.become(elfi.Prior(CustomPrior_t1, 2))\n",
    "t2.become(elfi.Prior(CustomPrior_t2, t1, 1))\n",
    "\n",
    "elfi.draw(d)\n",
    "\n",
    "rej = elfi.Rejection(d, batch_size=10000, seed=seed)\n",
    "\n",
    "N = 1000\n",
    "result = rej.sample(N)\n",
    "\n",
    "result.summary()\n",
    "\n",
    "result.plot_marginals();"
   ]
  },
  {
   "cell_type": "code",
   "execution_count": null,
   "metadata": {},
   "outputs": [],
   "source": []
  }
 ],
 "metadata": {
  "kernelspec": {
   "display_name": "Python 3",
   "language": "python",
   "name": "python3"
  },
  "language_info": {
   "codemirror_mode": {
    "name": "ipython",
    "version": 3
   },
   "file_extension": ".py",
   "mimetype": "text/x-python",
   "name": "python",
   "nbconvert_exporter": "python",
   "pygments_lexer": "ipython3",
   "version": "3.5.5"
  }
 },
 "nbformat": 4,
 "nbformat_minor": 2
}
