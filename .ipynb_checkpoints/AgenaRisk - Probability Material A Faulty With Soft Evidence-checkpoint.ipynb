{
 "cells": [
  {
   "cell_type": "code",
   "execution_count": null,
   "metadata": {},
   "outputs": [],
   "source": [
    "import numpy as np\n",
    "import pandas as pd\n",
    "\n",
    "import pymc3 as pm\n",
    "import theano.tensor as T\n",
    "from theano.compile.ops import as_op\n",
    "import theano\n",
    "\n",
    "from IPython.display import Image\n",
    "#import utils\n",
    "%matplotlib inline\n",
    "\n",
    "with pm.Model() as model:\n",
    "    probAFaulty = pm.Uniform('probAFaulty', 0, 1)\n",
    "    aFaultStat = pm.Binomial('aFaultStat', n=200, p=probAFaulty, observed=10)\n",
    "    \n",
    "    probBFaulty = pm.Uniform('probBFaulty', 0, 1)\n",
    "    bFaultStat = pm.Binomial('bFaultStat', n=200, p=probBFaulty, observed=15)\n",
    "    \n",
    "    paf_pbf = pm.Deterministic('paf_pbf', probAFaulty - probBFaulty)\n",
    "    \n",
    "    hypothesis = pm.Deterministic('hypothesis', T.switch(T.lt(paf_pbf, 0), 0, 1))\n",
    "    \n",
    "with model:\n",
    "    SAMPLE_NUM = 10000\n",
    "    trace = pm.sample(SAMPLE_NUM)\n",
    "    \n",
    "    pm.summary(trace, varnames=['probAFaulty'], start=1000)\n",
    "    pm.traceplot(trace[1000:], varnames=['probAFaulty'])\n",
    "    \n",
    "    pm.summary(trace, varnames=['probBFaulty'], start=1000)\n",
    "    pm.traceplot(trace[1000:], varnames=['probBFaulty'])\n",
    "    \n",
    "    pm.summary(trace, varnames=['paf_pbf'], start=1000)    \n",
    "    pm.traceplot(trace[1000:], varnames=['paf_pbf'])\n",
    "    \n",
    "    pm.summary(trace, varnames=['hypothesis'], start=1000)    \n",
    "    pm.traceplot(trace[1000:], varnames=['hypothesis'])\n",
    "    # print(sum(trace['C3_0']) / float(SAMPLE_NUM))"
   ]
  }
 ],
 "metadata": {
  "kernelspec": {
   "display_name": "Python 3",
   "language": "python",
   "name": "python3"
  }
 },
 "nbformat": 4,
 "nbformat_minor": 2
}
