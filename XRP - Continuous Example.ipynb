{
 "cells": [
  {
   "cell_type": "code",
   "execution_count": 1,
   "metadata": {},
   "outputs": [],
   "source": [
    "%matplotlib inline\n",
    "from IPython.core.pylabtools import figsize\n",
    "import matplotlib.pyplot as plt\n",
    "import scipy.stats as stats"
   ]
  },
  {
   "cell_type": "code",
   "execution_count": null,
   "metadata": {},
   "outputs": [],
   "source": [
    "Чтобы посчитать условную вер-ть гипотезы \"Процент переводов между банками которые будут использовать XRP\" примем за истину\n",
    "гипотезу \"Чем крупнее банк, тем легче ему самостоятельно организовать инфраструкуру, причем зависимость экспоненциальная\".\n",
    "Крупность банка определим как объем (в $) переводов которые он совершает.\n",
    "\n",
    "Кроме того мы принимаем факт что единовременно нужно 5 триллионов долларов,\n",
    "и что всего 100 млрд XRP, то есть максимум 1 XRP может стоить 50$"
   ]
  },
  {
   "cell_type": "code",
   "execution_count": 21,
   "metadata": {},
   "outputs": [],
   "source": [
    "import pymc3 as pm\n",
    "import numpy as np\n",
    "\n",
    "with pm.Model() as model:\n",
    "    # 1, 7 - is totally \"from head\"\n",
    "    bankFraction = pm.Beta(\"bankFraction\", 1, 7)\n",
    "    XRPFundamentalValue = 50*bankFraction   "
   ]
  },
  {
   "cell_type": "code",
   "execution_count": 26,
   "metadata": {
    "scrolled": false
   },
   "outputs": [
    {
     "data": {
      "image/png": "[encoded data removed]",
      "text/plain": [
       "<matplotlib.figure.Figure at 0x1f450fc37b8>"
      ]
     },
     "metadata": {},
     "output_type": "display_data"
    }
   ],
   "source": [
    "samples = [50*bankFraction.random() for i in range(20000)]\n",
    "plt.hist(samples, bins=100, normed=True, histtype=\"stepfilled\");"
   ]
  },
  {
   "cell_type": "code",
   "execution_count": 31,
   "metadata": {},
   "outputs": [
    {
     "data": {
      "text/plain": [
       "0.79145"
      ]
     },
     "execution_count": 31,
     "metadata": {},
     "output_type": "execute_result"
    }
   ],
   "source": [
    "sum(1 for s in samples if s < 10)/20000"
   ]
  },
  {
   "cell_type": "code",
   "execution_count": null,
   "metadata": {},
   "outputs": [],
   "source": [
    "То есть вероятность то что XRP будет меньше 10 равна 0.79145"
   ]
  }
 ],
 "metadata": {
  "kernelspec": {
   "display_name": "Python 3",
   "language": "python",
   "name": "python3"
  },
  "language_info": {
   "codemirror_mode": {
    "name": "ipython",
    "version": 3
   },
   "file_extension": ".py",
   "mimetype": "text/x-python",
   "name": "python",
   "nbconvert_exporter": "python",
   "pygments_lexer": "ipython3",
   "version": "3.5.4"
  }
 },
 "nbformat": 4,
 "nbformat_minor": 2
}
